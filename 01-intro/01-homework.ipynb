{
 "cells": [
  {
   "cell_type": "code",
   "execution_count": null,
   "id": "7f4c1ad4",
   "metadata": {},
   "outputs": [],
   "source": [
    "import pandas as pd\n",
    "import sklearn\n",
    "import numpy as np\n",
    "import datetime"
   ]
  },
  {
   "cell_type": "code",
   "execution_count": null,
   "id": "1645b099",
   "metadata": {},
   "outputs": [],
   "source": [
    "df = pd.read_parquet('https://d37ci6vzurychx.cloudfront.net/trip-data/yellow_tripdata_2023-01.parquet')"
   ]
  },
  {
   "cell_type": "code",
   "execution_count": null,
   "id": "b13ab8ee",
   "metadata": {},
   "outputs": [],
   "source": [
    "df.head()"
   ]
  },
  {
   "cell_type": "markdown",
   "id": "5564b21a",
   "metadata": {},
   "source": [
    "## Q1"
   ]
  },
  {
   "cell_type": "code",
   "execution_count": null,
   "id": "534594a2",
   "metadata": {},
   "outputs": [],
   "source": [
    "len(df.columns)"
   ]
  },
  {
   "cell_type": "markdown",
   "id": "8cc26cb0",
   "metadata": {},
   "source": [
    "## Q2"
   ]
  },
  {
   "cell_type": "code",
   "execution_count": null,
   "id": "1c6f22b8",
   "metadata": {},
   "outputs": [],
   "source": [
    "df[\"duration\"] = (df[\"tpep_dropoff_datetime\"] - df[\"tpep_pickup_datetime\"]) \n",
    "df[\"duration_min\"] = [x.total_seconds()/60 for x in df[\"duration\"]]\n",
    "np.std(df[\"duration_min\"])"
   ]
  },
  {
   "cell_type": "markdown",
   "id": "208c4847",
   "metadata": {},
   "source": [
    "## Q3"
   ]
  },
  {
   "cell_type": "code",
   "execution_count": null,
   "id": "d17fd0e8",
   "metadata": {},
   "outputs": [],
   "source": [
    "df_filtered = df[(df.duration_min >= 1) & (df.duration_min <= 60)].reset_index(drop = True)"
   ]
  },
  {
   "cell_type": "code",
   "execution_count": null,
   "id": "6f899156",
   "metadata": {},
   "outputs": [],
   "source": [
    "df_filtered.shape[0]/df.shape[0] * 100"
   ]
  },
  {
   "cell_type": "markdown",
   "id": "8d98ca34",
   "metadata": {},
   "source": [
    "## Q4"
   ]
  },
  {
   "cell_type": "code",
   "execution_count": null,
   "id": "41d0e873",
   "metadata": {},
   "outputs": [],
   "source": [
    "from sklearn.feature_extraction import DictVectorizer"
   ]
  },
  {
   "cell_type": "code",
   "execution_count": null,
   "id": "4564f1d8",
   "metadata": {},
   "outputs": [],
   "source": [
    "df_filtered['PULocationID'] = df_filtered['PULocationID'].astype(str)\n",
    "df_filtered['DOLocationID'] = df_filtered['DOLocationID'].astype(str)\n",
    "selected_columns = [\"PULocationID\", \"DOLocationID\"]\n",
    "train_dicts = df_filtered[selected_columns].to_dict(orient='records')"
   ]
  },
  {
   "cell_type": "code",
   "execution_count": null,
   "id": "bac87fe7",
   "metadata": {},
   "outputs": [],
   "source": [
    "dv = DictVectorizer()\n",
    "X_train = dv.fit_transform(train_dicts)"
   ]
  },
  {
   "cell_type": "markdown",
   "id": "f7a8e62e",
   "metadata": {},
   "source": [
    "## Q5"
   ]
  },
  {
   "cell_type": "code",
   "execution_count": null,
   "id": "4ddbc723",
   "metadata": {},
   "outputs": [],
   "source": [
    "from sklearn.metrics import root_mean_squared_error\n",
    "from sklearn.linear_model import LinearRegression"
   ]
  },
  {
   "cell_type": "code",
   "execution_count": null,
   "id": "59b99518",
   "metadata": {},
   "outputs": [],
   "source": [
    "y_train = df_filtered[\"duration_min\"]"
   ]
  },
  {
   "cell_type": "code",
   "execution_count": null,
   "id": "8afb0270",
   "metadata": {},
   "outputs": [],
   "source": [
    "model = LinearRegression()\n",
    "model.fit(X_train, y_train)"
   ]
  },
  {
   "cell_type": "code",
   "execution_count": null,
   "id": "1d47b6f0",
   "metadata": {},
   "outputs": [],
   "source": [
    "y_pred = model.predict(X_train)\n",
    "root_mean_squared_error(y_train, y_pred)"
   ]
  },
  {
   "cell_type": "markdown",
   "id": "9630a9df",
   "metadata": {},
   "source": [
    "## Q6"
   ]
  },
  {
   "cell_type": "code",
   "execution_count": null,
   "id": "34a65458",
   "metadata": {},
   "outputs": [],
   "source": [
    "df_valid = pd.read_parquet('https://d37ci6vzurychx.cloudfront.net/trip-data/yellow_tripdata_2023-02.parquet')"
   ]
  },
  {
   "cell_type": "code",
   "execution_count": null,
   "id": "aaa25814",
   "metadata": {},
   "outputs": [],
   "source": [
    "def prep_val_df(df, dv):\n",
    "    df[\"duration\"] = (df[\"tpep_dropoff_datetime\"] - df[\"tpep_pickup_datetime\"]) \n",
    "    df[\"duration_min\"] = [x.total_seconds()/60 for x in df[\"duration\"]]\n",
    "    df = df[(df.duration_min >= 1) & (df.duration_min <= 60)].reset_index(drop = True)\n",
    "    df['PULocationID'] = df['PULocationID'].astype(str)\n",
    "    df['DOLocationID'] = df['DOLocationID'].astype(str)\n",
    "    selected_columns = [\"PULocationID\", \"DOLocationID\"]\n",
    "    train_dicts = df[selected_columns].to_dict(orient='records')\n",
    "    X_train = dv.transform(train_dicts)\n",
    "    return X_train"
   ]
  },
  {
   "cell_type": "code",
   "execution_count": null,
   "id": "190b0618",
   "metadata": {},
   "outputs": [],
   "source": [
    "def get_y(df):\n",
    "    return df[\"duration_min\"] "
   ]
  },
  {
   "cell_type": "code",
   "execution_count": null,
   "id": "9252fa76",
   "metadata": {},
   "outputs": [],
   "source": [
    "X_val = prep_val_df(df_valid, dv)"
   ]
  },
  {
   "cell_type": "code",
   "execution_count": null,
   "id": "ada99120",
   "metadata": {},
   "outputs": [],
   "source": [
    "y_val = get_y(df_valid)"
   ]
  },
  {
   "cell_type": "code",
   "execution_count": null,
   "id": "a5caafde",
   "metadata": {},
   "outputs": [],
   "source": [
    "y_pred = model.predict(X_val)\n",
    "root_mean_squared_error(y_val, y_pred)"
   ]
  }
 ],
 "metadata": {
  "kernelspec": {
   "display_name": "Python 3 (ipykernel)",
   "language": "python",
   "name": "python3"
  },
  "language_info": {
   "codemirror_mode": {
    "name": "ipython",
    "version": 3
   },
   "file_extension": ".py",
   "mimetype": "text/x-python",
   "name": "python",
   "nbconvert_exporter": "python",
   "pygments_lexer": "ipython3",
   "version": "3.9.19"
  }
 },
 "nbformat": 4,
 "nbformat_minor": 5
}
